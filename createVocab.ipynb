{
 "cells": [
  {
   "cell_type": "code",
   "execution_count": 5,
   "metadata": {},
   "outputs": [],
   "source": [
    "from ipynb.fs.full.ProcessEmail import combine\n",
    "import os\n",
    "import pandas as pd"
   ]
  },
  {
   "cell_type": "code",
   "execution_count": 1,
   "metadata": {},
   "outputs": [],
   "source": [
    "# Return a list of all spam-email-file-name in training folder\n",
    "def getAllFile(PATH):\n",
    "    # PATH='data/Train/spam1/'\n",
    "    files=[]\n",
    "    for r,d,f in os.walk(PATH):\n",
    "        for file in f:\n",
    "            files.append(os.path.join(r, file))\n",
    "    return files"
   ]
  },
  {
   "cell_type": "code",
   "execution_count": 2,
   "metadata": {},
   "outputs": [],
   "source": [
    "# Return a series of all word that its frequency are greater\n",
    "# than parameter C\n",
    "def List_vocab(C,PATH):\n",
    "    files=getAllFile(PATH)\n",
    "    words=[]\n",
    "    for item in files:\n",
    "        #print(item)\n",
    "        with open(item, 'r', errors='ignore') as f:\n",
    "            content=f.read()\n",
    "        content=combine(content)\n",
    "        word=content.split()\n",
    "        \n",
    "        for i in word:\n",
    "            words.append(i)\n",
    "    # convert to series to apply value_counts method\n",
    "    se_words=pd.Series(words)\n",
    "    cnt=se_words.value_counts()\n",
    "    return cnt[cnt>=C]"
   ]
  },
  {
   "cell_type": "code",
   "execution_count": 3,
   "metadata": {},
   "outputs": [],
   "source": [
    "def writting_file(thresold, PATH):\n",
    "    most_frequent_word=List_vocab(thresold, PATH).index.tolist()\n",
    "    # Delete all contains of current vocab.txt file\n",
    "    open('Preparation/vocab.txt', 'w').close()\n",
    "    # write new most frequent words\n",
    "    f=open('Preparation/vocab.txt','w+')\n",
    "    for i in range(len(most_frequent_word)):\n",
    "        line=str(i)+'\\t'+most_frequent_word[i]+'\\n'\n",
    "        f.write(line)\n",
    "    f.close()\n",
    "    return len(most_frequent_word)"
   ]
  },
  {
   "cell_type": "code",
   "execution_count": null,
   "metadata": {},
   "outputs": [],
   "source": []
  }
 ],
 "metadata": {
  "kernelspec": {
   "display_name": "Python 3",
   "language": "python",
   "name": "python3"
  },
  "language_info": {
   "codemirror_mode": {
    "name": "ipython",
    "version": 3
   },
   "file_extension": ".py",
   "mimetype": "text/x-python",
   "name": "python",
   "nbconvert_exporter": "python",
   "pygments_lexer": "ipython3",
   "version": "3.6.8"
  }
 },
 "nbformat": 4,
 "nbformat_minor": 2
}
