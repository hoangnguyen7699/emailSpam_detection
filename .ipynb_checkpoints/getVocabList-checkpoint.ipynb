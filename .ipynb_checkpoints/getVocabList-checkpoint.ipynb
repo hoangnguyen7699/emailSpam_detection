{
 "cells": [
  {
   "cell_type": "markdown",
   "metadata": {},
   "source": [
    "Read the fixed vocabulary list in Preparation/vocab.txt and returns a dict\n",
    "of the word (key of each element are index and its value are words)."
   ]
  },
  {
   "cell_type": "code",
   "execution_count": 30,
   "metadata": {},
   "outputs": [],
   "source": [
    "def getVocabList():\n",
    "    with open('Preparation/vocab.txt','r') as f:\n",
    "        content=f.readlines()\n",
    "    vocabList={}\n",
    "    for items in content:\n",
    "        temp=items.split('\\t')\n",
    "        vocabList[int(temp[0])]=temp[1][:-1]\n",
    "    return vocabList\n"
   ]
  },
  {
   "cell_type": "code",
   "execution_count": null,
   "metadata": {},
   "outputs": [],
   "source": []
  }
 ],
 "metadata": {
  "kernelspec": {
   "display_name": "Python 3",
   "language": "python",
   "name": "python3"
  },
  "language_info": {
   "codemirror_mode": {
    "name": "ipython",
    "version": 3
   },
   "file_extension": ".py",
   "mimetype": "text/x-python",
   "name": "python",
   "nbconvert_exporter": "python",
   "pygments_lexer": "ipython3",
   "version": "3.6.8"
  }
 },
 "nbformat": 4,
 "nbformat_minor": 2
}
