{
 "cells": [
  {
   "cell_type": "code",
   "execution_count": 6,
   "metadata": {},
   "outputs": [],
   "source": [
    "import os\n",
    "import numpy as np\n",
    "from ipynb.fs.full.createVocab import getAllFile, writting_file\n",
    "from ipynb.fs.full.ProcessEmail import processEmail\n",
    "from ipynb.fs.full.emailFeatures import emailFeatures\n"
   ]
  },
  {
   "cell_type": "code",
   "execution_count": 4,
   "metadata": {},
   "outputs": [],
   "source": [
    "# Return the number of training example by\n",
    "# counting total file in non_sapm and spam\n",
    "def getLength(PATH_spam,PATH_nonSpam):\n",
    "    \n",
    "    spam=len([name for name in os.listdir(PATH_spam) if os.path.isfile(os.path.join(PATH_spam, name))])\n",
    "    non_spam=len([name for name in os.listdir(PATH_nonSpam) if os.path.isfile(os.path.join(PATH_nonSpam, name))])\n",
    "    return spam,non_spam"
   ]
  },
  {
   "cell_type": "code",
   "execution_count": 5,
   "metadata": {},
   "outputs": [],
   "source": [
    "# Return X_train, y_train \n",
    "def createXy(PATH_spam,PATH_nonSpam, thresold):\n",
    "    # get number of column and create a new VocabList\n",
    "    number_of_columns=writting_file(thresold,PATH_spam)\n",
    "    spam,non_spam=getLength(PATH_spam,PATH_nonSpam)\n",
    "    length=spam+non_spam\n",
    "    X=np.zeros((length, number_of_columns))\n",
    "    y=np.zeros((length,1))\n",
    "    # get all file in spam and non_spam folder\n",
    "    all_spam_files=getAllFile(PATH_spam)\n",
    "    all_nonSpam_files=getAllFile(PATH_nonSpam)\n",
    "    # Fill each row of X and y by its emailFetures (only for spam)\n",
    "    for i in range(spam):\n",
    "        with open(all_spam_files[i],'r',errors='ignore') as f:\n",
    "            #print(all_spam_files[i])\n",
    "            email_content=f.read()\n",
    "        word_indices=processEmail(email_content)\n",
    "        temp=emailFeatures(word_indices,number_of_columns)\n",
    "        X[i]=temp.T\n",
    "        # y[i]=1 because we are handling with only spam email \n",
    "        y[i]=1\n",
    "    for i in range(non_spam):\n",
    "        with open(all_nonSpam_files[i], 'r',errors='ignore') as f:\n",
    "            email_content=f.read()\n",
    "        word_indices=processEmail(email_content)\n",
    "        temp=emailFeatures(word_indices,number_of_columns)\n",
    "        X[i+spam]=temp.T\n",
    "        # y[i]=0 because we are handling with only non-spam email \n",
    "        y[i+spam]=0\n",
    "    return X,y"
   ]
  },
  {
   "cell_type": "code",
   "execution_count": null,
   "metadata": {},
   "outputs": [],
   "source": []
  }
 ],
 "metadata": {
  "kernelspec": {
   "display_name": "Python 3",
   "language": "python",
   "name": "python3"
  },
  "language_info": {
   "codemirror_mode": {
    "name": "ipython",
    "version": 3
   },
   "file_extension": ".py",
   "mimetype": "text/x-python",
   "name": "python",
   "nbconvert_exporter": "python",
   "pygments_lexer": "ipython3",
   "version": "3.6.8"
  }
 },
 "nbformat": 4,
 "nbformat_minor": 2
}
