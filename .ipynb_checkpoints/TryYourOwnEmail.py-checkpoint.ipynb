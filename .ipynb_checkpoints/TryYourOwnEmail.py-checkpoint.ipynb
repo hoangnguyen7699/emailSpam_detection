{
 "cells": [
  {
   "cell_type": "code",
   "execution_count": 20,
   "metadata": {},
   "outputs": [],
   "source": [
    "from sklearn.externals import joblib\n",
    "from ipynb.fs.full.emailFeatures import emailFeatures\n",
    "from ipynb.fs.full.ProcessEmail import processEmail\n",
    "from ipynb.fs.full.getVocabList import getVocabList\n",
    "# Load your model\n",
    "model=joblib.load('model')\n",
    "# take place None by the path to your own email\n",
    "PATH=None\n",
    "with open(PATH) as f:\n",
    "    content=f.read()\n",
    "email_content=processEmail(content)\n",
    "n=len(getVocabList())\n",
    "X=emailFeatures(email_content,n)\n",
    "y_predict=model.predict(X.T)"
   ]
  },
  {
   "cell_type": "code",
   "execution_count": 21,
   "metadata": {},
   "outputs": [
    {
     "data": {
      "text/plain": [
       "array([1.])"
      ]
     },
     "execution_count": 21,
     "metadata": {},
     "output_type": "execute_result"
    }
   ],
   "source": [
    "y_predict"
   ]
  },
  {
   "cell_type": "code",
   "execution_count": null,
   "metadata": {},
   "outputs": [],
   "source": []
  }
 ],
 "metadata": {
  "kernelspec": {
   "display_name": "Python 3",
   "language": "python",
   "name": "python3"
  },
  "language_info": {
   "codemirror_mode": {
    "name": "ipython",
    "version": 3
   },
   "file_extension": ".py",
   "mimetype": "text/x-python",
   "name": "python",
   "nbconvert_exporter": "python",
   "pygments_lexer": "ipython3",
   "version": "3.6.8"
  }
 },
 "nbformat": 4,
 "nbformat_minor": 2
}
