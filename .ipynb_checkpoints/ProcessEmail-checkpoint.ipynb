{
 "cells": [
  {
   "cell_type": "code",
   "execution_count": 2,
   "metadata": {},
   "outputs": [],
   "source": [
    "from ipynb.fs.full.getVocabList import getVocabList\n",
    "import re\n",
    "import string\n",
    "import numpy as np"
   ]
  },
  {
   "cell_type": "markdown",
   "metadata": {},
   "source": []
  },
  {
   "cell_type": "code",
   "execution_count": 50,
   "metadata": {},
   "outputs": [],
   "source": [
    "# Find Headers and remove it by finding the first blank line of raw e-mail.\n",
    "def header_processing(email_content):\n",
    "    #Convert String to list containing each line of raw data\n",
    "    temp=email_content.splitlines( )\n",
    "    for i in range(len(temp)):\n",
    "        if  temp[i]=='':\n",
    "            temp=temp[i+1:]\n",
    "            break\n",
    "    #print(temp)\n",
    "    return ''.join(temp)"
   ]
  },
  {
   "cell_type": "code",
   "execution_count": 52,
   "metadata": {},
   "outputs": [],
   "source": [
    "# Convert all uppercases to lowercases\n",
    "def lower_processing(email_content):\n",
    "\n",
    "    return email_content.lower()"
   ]
  },
  {
   "cell_type": "code",
   "execution_count": 60,
   "metadata": {},
   "outputs": [],
   "source": [
    "# Remove all html tags\n",
    "# Looks for any expression that starts with < and ends with > and replace\n",
    "# and does not have any < or > in the tag it with a space\n",
    "def html_processing(email_content):\n",
    "    return re.sub(r'<[^<>]+>',' ',email_content)"
   ]
  },
  {
   "cell_type": "code",
   "execution_count": 62,
   "metadata": {},
   "outputs": [],
   "source": [
    "# Handle Email Addresses\n",
    "# Look for strings with @ in the middle\n",
    "def email_processing(email_content):\n",
    "    return re.sub(r'[^\\s]+@[^\\s]+','emailaddr',email_content)"
   ]
  },
  {
   "cell_type": "code",
   "execution_count": 68,
   "metadata": {},
   "outputs": [],
   "source": [
    "# Handle Numbers\n",
    "# Look for one or more characters between 0-9\n",
    "def number_processing(email_content):\n",
    "    return re.sub(r'[0-9]+','number',email_content)"
   ]
  },
  {
   "cell_type": "code",
   "execution_count": 69,
   "metadata": {},
   "outputs": [],
   "source": [
    "# Handle URLS\n",
    "# Look for strings starting with http:// or https://\n",
    "def url_prcessing(email_content):\n",
    "    return re.sub(r'(http|https)://[^\\s]*','httpaddr',email_content)"
   ]
  },
  {
   "cell_type": "code",
   "execution_count": 66,
   "metadata": {},
   "outputs": [],
   "source": [
    "# Handle $ sign\n",
    "def dollar_processing(email_content):\n",
    "    return re.sub(r'[$]+','dollar',email_content)"
   ]
  },
  {
   "cell_type": "code",
   "execution_count": 1,
   "metadata": {},
   "outputs": [],
   "source": [
    "# Get rid of any punctuation\n",
    "def punctuation_processing(email_content):\n",
    "    translator = str.maketrans(string.punctuation, ' '*len(string.punctuation))\n",
    "    return email_content.translate(translator)"
   ]
  },
  {
   "cell_type": "code",
   "execution_count": null,
   "metadata": {},
   "outputs": [],
   "source": [
    "def combine(email_content):\n",
    "    email_content=header_processing(email_content)\n",
    "    email_content=lower_processing(email_content)\n",
    "    email_content=html_processing(email_content)\n",
    "    email_content=email_processing(email_content)\n",
    "    email_content=number_processing(email_content)\n",
    "    email_content=url_prcessing(email_content)\n",
    "    email_content=dollar_processing(email_content)\n",
    "    email_content=punctuation_processing(email_content)\n",
    "    return email_content"
   ]
  },
  {
   "cell_type": "code",
   "execution_count": 101,
   "metadata": {},
   "outputs": [],
   "source": [
    "# Return a numpy array of word_indices\n",
    "def processEmail(email_content):\n",
    "    vocabList=getVocabList()\n",
    "    world_indices=[]\n",
    "    \n",
    "    \n",
    "    email_content=combine(email_content)\n",
    "    words=email_content.split()\n",
    "    # Looking up each word in vocabList. If a match exists, add the index of the word to the\n",
    "    # word_indices.\n",
    "    for word in words:\n",
    "        if len(word)<=2:\n",
    "            continue\n",
    "        for i in range(len(vocabList)):\n",
    "            if vocabList[i]==word:\n",
    "                world_indices.append(i)\n",
    "    return np.array(world_indices)\n",
    "    "
   ]
  },
  {
   "cell_type": "code",
   "execution_count": null,
   "metadata": {},
   "outputs": [],
   "source": []
  }
 ],
 "metadata": {
  "kernelspec": {
   "display_name": "Python 3",
   "language": "python",
   "name": "python3"
  },
  "language_info": {
   "codemirror_mode": {
    "name": "ipython",
    "version": 3
   },
   "file_extension": ".py",
   "mimetype": "text/x-python",
   "name": "python",
   "nbconvert_exporter": "python",
   "pygments_lexer": "ipython3",
   "version": "3.6.8"
  }
 },
 "nbformat": 4,
 "nbformat_minor": 2
}
