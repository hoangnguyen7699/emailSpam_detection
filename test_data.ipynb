{
 "cells": [
  {
   "cell_type": "code",
   "execution_count": 1,
   "metadata": {},
   "outputs": [],
   "source": [
    "from ipynb.fs.full.Training_data import getLength\n",
    "from ipynb.fs.full.createVocab import getAllFile\n",
    "from ipynb.fs.full.ProcessEmail import processEmail\n",
    "from ipynb.fs.full.emailFeatures import emailFeatures\n",
    "from ipynb.fs.full.getVocabList import getVocabList\n",
    "import numpy "
   ]
  },
  {
   "cell_type": "code",
   "execution_count": 2,
   "metadata": {},
   "outputs": [],
   "source": [
    "def createTest(PATH_spam,PATH_nonSpam):\n",
    "    # get the number of file spam, non-spam\n",
    "    spam,non_spam=getLength(PATH_spam, PATH_nonSpam)\n",
    "    length=spam+non_spam\n",
    "    # get the number of columns\n",
    "    number_of_columns=len(getVocabList())\n",
    "    all_spam_files=getAllFile(PATH_spam)\n",
    "    all_nonSpam_files=getAllFile(PATH_nonSpam)\n",
    "    X=numpy.zeros((length, number_of_columns))\n",
    "    y=numpy.zeros((length,1))\n",
    "    for i in range(spam):\n",
    "        with open(all_spam_files[i],'r',errors='ignore') as f:\n",
    "            #print(all_spam_files[i])\n",
    "            email_content=f.read()\n",
    "        word_indices=processEmail(email_content)\n",
    "        temp=emailFeatures(word_indices,number_of_columns)\n",
    "        X[i]=temp.T\n",
    "        # y[i]=1 because we are handling with only spam email \n",
    "        y[i]=1\n",
    "    for i in range(non_spam):\n",
    "        with open(all_nonSpam_files[i], 'r',errors='ignore') as f:\n",
    "            email_content=f.read()\n",
    "        word_indices=processEmail(email_content)\n",
    "        temp=emailFeatures(word_indices,number_of_columns)\n",
    "        X[i+spam]=temp.T\n",
    "        # y[i]=0 because we are handling with only non-spam email \n",
    "        y[i+spam]=0\n",
    "    return X,y"
   ]
  },
  {
   "cell_type": "code",
   "execution_count": null,
   "metadata": {},
   "outputs": [],
   "source": []
  }
 ],
 "metadata": {
  "kernelspec": {
   "display_name": "Python 3",
   "language": "python",
   "name": "python3"
  },
  "language_info": {
   "codemirror_mode": {
    "name": "ipython",
    "version": 3
   },
   "file_extension": ".py",
   "mimetype": "text/x-python",
   "name": "python",
   "nbconvert_exporter": "python",
   "pygments_lexer": "ipython3",
   "version": "3.6.8"
  }
 },
 "nbformat": 4,
 "nbformat_minor": 2
}
